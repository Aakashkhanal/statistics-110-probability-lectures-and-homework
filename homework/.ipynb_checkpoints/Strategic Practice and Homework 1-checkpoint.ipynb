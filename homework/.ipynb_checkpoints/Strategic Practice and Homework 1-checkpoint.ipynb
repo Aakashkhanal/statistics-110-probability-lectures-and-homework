{
 "cells": [
  {
   "cell_type": "markdown",
   "metadata": {},
   "source": [
    "# Strategice Practice"
   ]
  },
  {
   "cell_type": "markdown",
   "metadata": {},
   "source": [
    "### Naive Defination of Probability"
   ]
  },
  {
   "cell_type": "markdown",
   "metadata": {},
   "source": [
    "**Problem 1:**\n",
    " For each part, decide whether the blank should be filled in with =, <, or >, and give a short but clear explanation.  \n",
    "* (a) (probability that the total after rolling 4 fair dice is 21) (probability that the total after rolling 4 fair dice is 22)  \n",
    "* (b) (probability that a random 2 letter word is a palindrome1) (probability that a random 3 letter word is a palindrome)"
   ]
  },
  {
   "cell_type": "markdown",
   "metadata": {},
   "source": [
    "**Solution:**\n",
    "* (a)\n",
    "Different combinations to get total of 21,when a fair dice is rolled 4 times, where order doesn't matter are\n",
    "\\begin{align*}\n",
    "{6, 6, 6, 3} \\\\\n",
    "{6, 6, 5, 4} \\\\\n",
    "{6, 5, 5, 5}\n",
    "\\end{align*}\n",
    "The total number of possible combinations, when the dice is rolled twice is $6^4$\n",
    "So, the probability is\n",
    "\\begin{align*}\n",
    "\\frac{3}{6^4}\n",
    "\\end{align*}\n",
    "<br>\n",
    "<br>\n",
    "Now the different combinations to get total of 22 are\n",
    "\\begin{align*}\n",
    "{6, 6, 6, 4} \\\\\n",
    "{6, 6, 5, 5}\n",
    "\\end{align*}\n",
    "and the probability will be\n",
    "\\begin{align*}\n",
    "\\frac{3}{6^4}\n",
    "\\end{align*}\n",
    "<br>\n",
    "<br>\n",
    "So the final answer will be \n",
    "<br>\n",
    "<br>\n",
    "(Probability that the total after rolling 4 fair dice is 21)$>$(Probability that the total after rolling 4 fair dice is 22)\n",
    "<br>\n",
    "<br>\n",
    "<br>\n",
    "* (b)\n",
    "(probablity that a random 2 letter word is a palindrome)$=$(probablity that a random 3 letter word is a palindrome)\n",
    "<br>\n",
    "Because, the probability of 3 letter word being palindrome doesn't depend on the middle letter. So, it's same as the two letter word\n",
    "\n",
    "___"
   ]
  },
  {
   "cell_type": "markdown",
   "metadata": {},
   "source": [
    "\n",
    "**Problem 2:**\n",
    "A random 5 card poker hand is dealt from a standard deck of cards. Find the probability of each of the following (in terms of binomial coefficients).\n",
    "* (a) A flush (all 5 cards being of the same suit; do not count a royal flush, which is a flush with an Ace, King, Queen, Jack and 10)\n",
    "* (b) Two pair (e.g., two 3's, two 7's and and Ace)"
   ]
  },
  {
   "cell_type": "markdown",
   "metadata": {},
   "source": [
    "**Solution:**\n",
    "\n",
    "* (a)\n",
    "first let's see the total number of combinations where 5 cards can  be choosen out of 52 cards of a deck, which is nothing but\n",
    "\\begin{align*}\n",
    "{52 \\choose 5}\n",
    "\\end{align*}\n",
    "<br>\n",
    "<br>\n",
    "And total number of combinations of choosing 5 cards where each of them are from a same suit is\n",
    "\\begin{align*}\n",
    "{13 \\choose 5}\n",
    "\\end{align*}\n",
    "<br>\n",
    "<br>\n",
    "And there are total 4 suits available.\n",
    "So, the desired probability will be\n",
    "<br>\n",
    "<br>\n",
    "\\begin{align*}\n",
    "\\frac{4 \\times {13 \\choose 5} - 1}{52 \\choose 5}\n",
    "\\end{align*}\n",
    "<br>\n",
    "<br>\n",
    "We are subtracting 1 from the denominator to exclude the royal flush\n",
    "<br>\n",
    "<br>\n",
    "<br>\n",
    "* (b)\n",
    "as the previous case, the denominator will be\n",
    "<br>\n",
    "<br>\n",
    "\\begin{align*}\n",
    "{52 \\choose 5}\n",
    "\\end{align*}\n",
    "<br>\n",
    "<br>\n",
    "and for the numerator part, first we have to choose one pair, where the rank has to same. So, we can decide the first rank in $13 \\choose 1$ ways and 2 cards, from 4 suits to make it first pair, so it's value will be ${13 \\choose 1} \\times {4 \\choose 2}$ .\n",
    "<br>\n",
    "<br>\n",
    "Same way for the second pair, the combination will be ${12 \\choose 1} \\times {4 \\choose 2}$, where the second rank we have to choose out of remaining 12 ranks and final one card can any of the remaining 44, i.e (52 - 8), where 8 cards are from selected two of the suits.\n",
    "<br>\n",
    "Another thing we have to count is when we are choosing the suits, we are considering order also. So, we have to divide that amount by 2 to get the correct combination.\n",
    "So, the final probability value will be\n",
    "<br>\n",
    "<br>\n",
    "\\begin{align*}\n",
    "\\frac{{13 \\choose 1} \\times {4 \\choose 2} \\times {12 \\choose 1} \\times {4 \\choose 2} \\times 44}{2 \\times {52 \\choose 5}}\n",
    "\\end{align*}\n",
    "<br>\n",
    "<br>\n",
    "<br>\n",
    "___"
   ]
  },
  {
   "cell_type": "markdown",
   "metadata": {},
   "source": [
    "**Problem 3:**\n",
    "* (a) How many paths are there from the point (0,0) to the point (110, 111) in the plane such that each step either consists of going one unit up or one unit to the right?\n",
    "* (b) How many paths are there from (0,0) to (210, 211), where each step consists of going one unit up or one unit to the right, and the path has to go through (110, 111)?"
   ]
  },
  {
   "cell_type": "markdown",
   "metadata": {},
   "source": [
    "**Solution:**\n",
    "* (a) If we see the problem this way, that for going from point (0,0) to (110, 111) we have to make (110 + 111) steps, whatever way we make it to (110, 111). And let's at each step the possible action is either up or down, where total up actions are 111 and total right actions are 110. So the sequence will be something like below\n",
    "\n",
    "\\begin{align*}\n",
    "\\text{[up, up, right, right, right,........ till (110 + 111) steps]}\n",
    "\\end{align*}\n",
    "\n",
    "and we can have total $110 + 111 \\choose 110$ these many combinations or ways to reach the destination\n",
    "\n",
    "* (b) for the second problem once we reach (110, 111) again we have to cover (110 + 110) steps and the different ways from (110, 111) will be $110+110 \\choose 110$ . So, the total number of ways will be\n",
    "\\begin{align*}\n",
    "{{110 + 111 \\choose 110} \\times {110 + 110 \\choose 110}}\n",
    "\\end{align*}\n",
    "___"
   ]
  },
  {
   "cell_type": "markdown",
   "metadata": {},
   "source": [
    "**Probelm 4:**  \n",
    "<br>\n",
    "A norepeatword is a sequence of at least one(and possible all) of the usual 26 letters a, b, c, ..., z with repititions not allowed. For example \"course\" is a norepeatword, but \"statistics\" is not. Order matters, e.g., \"course\" is not the same as \"source\".\n",
    "A norepeatword is chosen randomly, with all norepeatwords equally likely. Show that the probability that it uses all 26 letters is very close to 1/e."
   ]
  },
  {
   "cell_type": "markdown",
   "metadata": {},
   "source": [
    "**Solution:**  \n",
    "<br>\n",
    "The total number of all norepeatword possible is\n",
    "<br>\n",
    "<br>\n",
    "\\begin{align}\n",
    "{\\frac{26!}{25!} + \\frac{26!}{24!} + ...... + \\frac{26!}{1!} + \\frac{26!}{0!}}\n",
    "\\end{align}\n",
    "<br>\n",
    "<br>\n",
    "which will be the denominator of our probability, and total number of words which uses all 26 letters, which is nothing but our numerator is\n",
    "<br>\n",
    "<br>\n",
    "\\begin{align}\n",
    "\\frac{26!}{1!}\n",
    "\\end{align}\n",
    "<br>\n",
    "<br>\n",
    "So the final probability is\n",
    "\\begin{align}\n",
    "\\Pr & = \\frac{\\frac{26!}{1!}}{\\frac{26!}{25!} + \\frac{26!}{24!} + ..... + \\frac{26!}{1!} + \\frac{26!}{0!}} \\\\\n",
    " & = \\frac{1}{1 + \\frac{1}{1!} + \\frac{1}{2!} + ...... + \\frac{1}{26!}}  \\\\ \n",
    " & = \\frac{1}{e}\n",
    "\\end{align}\n",
    "___"
   ]
  },
  {
   "cell_type": "markdown",
   "metadata": {},
   "source": [
    "### Story Proofs"
   ]
  },
  {
   "cell_type": "markdown",
   "metadata": {},
   "source": [
    "**Problem 5:**  \n",
    "<br>\n",
    "Give a story proof that $\\sum_{k=0}^{n}{n \\choose k} = 2^n$"
   ]
  },
  {
   "cell_type": "markdown",
   "metadata": {},
   "source": []
  }
 ],
 "metadata": {
  "kernelspec": {
   "display_name": "Python 3",
   "language": "python",
   "name": "python3"
  },
  "language_info": {
   "codemirror_mode": {
    "name": "ipython",
    "version": 3
   },
   "file_extension": ".py",
   "mimetype": "text/x-python",
   "name": "python",
   "nbconvert_exporter": "python",
   "pygments_lexer": "ipython3",
   "version": "3.8.2"
  }
 },
 "nbformat": 4,
 "nbformat_minor": 2
}
