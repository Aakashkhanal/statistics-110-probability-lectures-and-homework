{
 "cells": [
  {
   "cell_type": "markdown",
   "metadata": {},
   "source": [
    "# Strategice Practice"
   ]
  },
  {
   "cell_type": "markdown",
   "metadata": {},
   "source": [
    "## Practice 1"
   ]
  },
  {
   "cell_type": "markdown",
   "metadata": {},
   "source": [
    "### Naive Defination of Probability"
   ]
  },
  {
   "cell_type": "markdown",
   "metadata": {},
   "source": [
    "**Problem 1:**\n",
    " For each part, decide whether the blank should be filled in with =, <, or >, and give a short but clear explanation.  \n",
    "* (a) (probability that the total after rolling 4 fair dice is 21) (probability that the total after rolling 4 fair dice is 22)  \n",
    "* (b) (probability that a random 2 letter word is a palindrome1) (probability that a random 3 letter word is a palindrome)"
   ]
  },
  {
   "cell_type": "markdown",
   "metadata": {},
   "source": [
    "**Solution:**\n",
    "* (a)\n",
    "Different combinations to get total of 21,when a fair dice is rolled 4 times, where order doesn't matter are\n",
    "\\begin{align*}\n",
    "{6, 6, 6, 3} \\\\\n",
    "{6, 6, 5, 4} \\\\\n",
    "{6, 5, 5, 5}\n",
    "\\end{align*}\n",
    "<br>\n",
    "Now from the arrangement of $\\{6, 6, 6, 3\\}$ total combinations possible are 4. It's obvious because the outcome of $3$ can be any of the four dice rolls and it can happenf 4 ways for four dices. \n",
    "<br>\n",
    "for the arrangement of $\\{6, 5, 5, 5\\}$ total combinations possible are 4.  \n",
    "<br>\n",
    "And for the arrangement of $\\{6, 6, 5, 4\\}$ total combinations are calculated this way. We can arrange four distinct numbers in $4!$ different ways if none of them are repeated. Now here the number $6$ is repeated twice. So total possible arrangement will be $\\frac{4!}{2}$\n",
    "<br>\n",
    "<br>\n",
    "So total number of possible combinations where the summation is 21 is $4+4+12$.\n",
    "<br>\n",
    "The total number of possible combinations, when the dice is rolled 4 times is $6^4$\n",
    "So, the probability is\n",
    "\\begin{align*}\n",
    "\\frac{20}{6^4}\n",
    "\\end{align*}\n",
    "<br>\n",
    "<br>\n",
    "Now the different combinations to get total of 22 are\n",
    "\\begin{align*}\n",
    "{6, 6, 6, 4} \\\\\n",
    "{6, 6, 5, 5}\n",
    "\\end{align*}\n",
    "<br>\n",
    "For the arrangement of $\\{6, 6, 5, 5\\}$ there are $\\frac{4!}{2^2}$ combinations.\n",
    "and the probability will be\n",
    "<br>\n",
    "\\begin{align*}\n",
    "\\frac{10}{6^4}\n",
    "\\end{align*}\n",
    "<br>\n",
    "<br>\n",
    "So the final answer will be \n",
    "<br>\n",
    "<br>\n",
    "(Probability that the total after rolling 4 fair dice is 21)$>$(Probability that the total after rolling 4 fair dice is 22)\n",
    "<br>\n",
    "<br>\n",
    "<br>\n",
    "* (b)\n",
    "(probablity that a random 2 letter word is a palindrome)$=$(probablity that a random 3 letter word is a palindrome)\n",
    "<br>\n",
    "Because, the probability of 3 letter word being palindrome doesn't depend on the middle letter. So, it's same as the two letter word\n",
    "\n",
    "___"
   ]
  },
  {
   "cell_type": "markdown",
   "metadata": {},
   "source": [
    "\n",
    "**Problem 2:**\n",
    "A random 5 card poker hand is dealt from a standard deck of cards. Find the probability of each of the following (in terms of binomial coefficients).\n",
    "* (a) A flush (all 5 cards being of the same suit; do not count a royal flush, which is a flush with an Ace, King, Queen, Jack and 10)\n",
    "* (b) Two pair (e.g., two 3's, two 7's and and Ace)"
   ]
  },
  {
   "cell_type": "markdown",
   "metadata": {},
   "source": [
    "**Solution:**\n",
    "\n",
    "* (a)\n",
    "first let's see the total number of combinations where 5 cards can  be choosen out of 52 cards of a deck, which is nothing but\n",
    "\\begin{align*}\n",
    "{52 \\choose 5}\n",
    "\\end{align*}\n",
    "<br>\n",
    "<br>\n",
    "And total number of combinations of choosing 5 cards where each of them are from a same suit is\n",
    "\\begin{align*}\n",
    "{13 \\choose 5}\n",
    "\\end{align*}\n",
    "<br>\n",
    "<br>\n",
    "And there are total 4 suits available.\n",
    "So, the desired probability will be\n",
    "<br>\n",
    "<br>\n",
    "\\begin{align*}\n",
    "\\frac{4 \\times {13 \\choose 5} - 1}{52 \\choose 5}\n",
    "\\end{align*}\n",
    "<br>\n",
    "<br>\n",
    "We are subtracting 1 from the denominator to exclude the royal flush\n",
    "<br>\n",
    "<br>\n",
    "<br>\n",
    "* (b)\n",
    "as the previous case, the denominator will be\n",
    "<br>\n",
    "<br>\n",
    "\\begin{align*}\n",
    "{52 \\choose 5}\n",
    "\\end{align*}\n",
    "<br>\n",
    "<br>\n",
    "and for the numerator part, first we have to choose one pair, where the rank has to same. So, we can decide the first rank in $13 \\choose 1$ ways and 2 cards, from 4 suits to make it first pair, so it's value will be ${13 \\choose 1} \\times {4 \\choose 2}$ .\n",
    "<br>\n",
    "<br>\n",
    "Same way for the second pair, the combination will be ${12 \\choose 1} \\times {4 \\choose 2}$, where the second rank we have to choose out of remaining 12 ranks and final one card can any of the remaining 44, i.e (52 - 8), where 8 cards are from selected two of the suits.\n",
    "<br>\n",
    "Another thing we have to count is when we are choosing the suits, we are considering order also. So, we have to divide that amount by 2 to get the correct combination.\n",
    "So, the final probability value will be\n",
    "<br>\n",
    "<br>\n",
    "\\begin{align*}\n",
    "\\frac{{13 \\choose 1} \\times {4 \\choose 2} \\times {12 \\choose 1} \\times {4 \\choose 2} \\times 44}{2 \\times {52 \\choose 5}}\n",
    "\\end{align*}\n",
    "<br>\n",
    "<br>\n",
    "<br>\n",
    "___"
   ]
  },
  {
   "cell_type": "markdown",
   "metadata": {},
   "source": [
    "**Problem 3:**\n",
    "* (a) How many paths are there from the point (0,0) to the point (110, 111) in the plane such that each step either consists of going one unit up or one unit to the right?\n",
    "* (b) How many paths are there from (0,0) to (210, 211), where each step consists of going one unit up or one unit to the right, and the path has to go through (110, 111)?"
   ]
  },
  {
   "cell_type": "markdown",
   "metadata": {},
   "source": [
    "**Solution:**\n",
    "* (a) If we see the problem this way, that for going from point (0,0) to (110, 111) we have to make (110 + 111) steps, whatever way we make it to (110, 111). And let's at each step the possible action is either up or down, where total up actions are 111 and total right actions are 110. So the sequence will be something like below\n",
    "\n",
    "\\begin{align*}\n",
    "\\text{[up, up, right, right, right,........ till (110 + 111) steps]}\n",
    "\\end{align*}\n",
    "\n",
    "and we can have total $110 + 111 \\choose 110$ these many combinations or ways to reach the destination\n",
    "\n",
    "* (b) for the second problem once we reach (110, 111) again we have to cover (110 + 110) steps and the different ways from (110, 111) will be $110+110 \\choose 110$ . So, the total number of ways will be\n",
    "\\begin{align*}\n",
    "{{110 + 111 \\choose 110} \\times {110 + 110 \\choose 110}}\n",
    "\\end{align*}\n",
    "___"
   ]
  },
  {
   "cell_type": "markdown",
   "metadata": {},
   "source": [
    "**Probelm 4:**  \n",
    "<br>\n",
    "A norepeatword is a sequence of at least one(and possible all) of the usual 26 letters a, b, c, ..., z with repititions not allowed. For example \"course\" is a norepeatword, but \"statistics\" is not. Order matters, e.g., \"course\" is not the same as \"source\".\n",
    "A norepeatword is chosen randomly, with all norepeatwords equally likely. Show that the probability that it uses all 26 letters is very close to 1/e."
   ]
  },
  {
   "cell_type": "markdown",
   "metadata": {},
   "source": [
    "**Solution:**  \n",
    "<br>\n",
    "The total number of all norepeatword possible is\n",
    "<br>\n",
    "<br>\n",
    "\\begin{align}\n",
    "{\\frac{26!}{25!} + \\frac{26!}{24!} + ...... + \\frac{26!}{1!} + \\frac{26!}{0!}}\n",
    "\\end{align}\n",
    "<br>\n",
    "<br>\n",
    "which will be the denominator of our probability, and total number of words which uses all 26 letters, which is nothing but our numerator is\n",
    "<br>\n",
    "<br>\n",
    "\\begin{align}\n",
    "\\frac{26!}{1!}\n",
    "\\end{align}\n",
    "<br>\n",
    "<br>\n",
    "So the final probability is\n",
    "\\begin{align}\n",
    "\\Pr & = \\frac{\\frac{26!}{1!}}{\\frac{26!}{25!} + \\frac{26!}{24!} + ..... + \\frac{26!}{1!} + \\frac{26!}{0!}} \\\\\n",
    " & = \\frac{1}{1 + \\frac{1}{1!} + \\frac{1}{2!} + ...... + \\frac{1}{26!}}  \\\\ \n",
    " & = \\frac{1}{e}\n",
    "\\end{align}\n",
    "___"
   ]
  },
  {
   "cell_type": "markdown",
   "metadata": {},
   "source": [
    "### Story Proofs"
   ]
  },
  {
   "cell_type": "markdown",
   "metadata": {},
   "source": [
    "**Problem 5:**  \n",
    "<br>\n",
    "Give a story proof that $\\sum_{k=0}^{n}{n \\choose k} = 2^n$\n",
    "\n",
    "**Solution:**\n",
    "We can think of this problem in this way that, let's say we have n balls and out of them we have to select k of them. Now if we have to consider all the combinations where value of k varies from 0 to n. It's like selecting any number of balls from given n balls.\n",
    "<br>\n",
    "<br>\n",
    "Now same thing can be calculated such a way that, for every ball there are two possiblities that is either that ball is present or not. And for n of them there will $2^n$ possibilites.\n",
    "<br>\n",
    "<br>\n",
    "So, both the scenarios are similar and that makes them equal.\n",
    "<br>\n",
    "\n",
    "___"
   ]
  },
  {
   "cell_type": "markdown",
   "metadata": {},
   "source": [
    "**Problem 6:**  \n",
    "Give a story proof that\n",
    "\\begin{align}\n",
    "\\frac{{2n}!}{{2^n}{n!}} = (2n-1)(2n-3)...3.1\n",
    "\\end{align}\n",
    "\n",
    "**Solution:**\n",
    "Think of it as a problem to find the number of pairs among 2n balls. There are 2n ways we can select the first ball of the first pair and then we can select the second ball of the pair from (2n-1) balls. Same way for the second pair we can select the first ball from remaining (2n-2) balls and so on. So there are $2n!$ ways. Now, we don't have to consider all the combination of pairs($2n!$) and in each of the pairs can have two arrangments i.e the first ball comes second and the second ball comes first($2^n$), which also can be ignored. So the total possible pairs are $\\frac{{2n}!}{{2^n}{n!}}$  \n",
    "<br>\n",
    "Same thing can be calculated another way such that, for the first ball we have (2n-1) balls to select a pair, then for the third ball we have (2n-3) ball to make another pair. Such a way, we have $(2n-1)(2n-3)...3.1$ arrangements.\n",
    "\n",
    "<br>\n",
    "\n",
    "___"
   ]
  },
  {
   "cell_type": "markdown",
   "metadata": {},
   "source": [
    "**Problem 7:**\n",
    "Show that for all positive integers n and k with n > k,\n",
    "\\begin{align}\n",
    "{n \\choose k} + {n \\choose {k-1}} = {{n+1} \\choose k}\n",
    "\\end{align}\n",
    "\n",
    "**Solution:**\n",
    "\n",
    "If we have $n+1$ people and out of them one guy is president and we have to select k of them then the possible ways to select them in normal way is ${n+1} \\choose k$.\n",
    "\n",
    "Now if we consider two different scenarios where the president is choosen in the k people and where the president is not choosen. So, when the president is not present in the choosen one the combinations are $n \\choose k$ and when the president is present in the choosen one the we have select the reamining ${k-1}$ people which is $n \\choose {k-1}$. So, the total combinations are ${n \\choose k} + {n \\choose {k-1}}$"
   ]
  },
  {
   "cell_type": "markdown",
   "metadata": {},
   "source": [
    "## Practice 2"
   ]
  },
  {
   "cell_type": "markdown",
   "metadata": {},
   "source": [
    "**Problem 1:**\n",
    "A certain family has 6 children, consisting of 3 boys and 3 girls. Assuming that\n",
    "all birth orders are equally likely, what is the probability that the 3 eldest children\n",
    "are the 3 girls?\n",
    "\n",
    "**Solution:** First let's see what's the total number of orientations possible in terms of birth order which is nothing but $6!$  \n",
    "Now, for the condition where the 3 sisters will be elder ones, let's consider 3 of them single entity, so the different orders for the boys will be $3!$ and considerting 3 girls always born first they can have $3!$ combinations. So, total $3!3!$ combinations are possible where the girls are always elder. So the probability will be\n",
    "\\begin{align}\n",
    "\\frac{{3!}{3!}}{6!}\n",
    "\\end{align}\n",
    "\n",
    "<br>\n",
    "\n",
    "___"
   ]
  },
  {
   "cell_type": "markdown",
   "metadata": {},
   "source": [
    "**Problem 2:**\n",
    "\n",
    "* (a) How many ways are there to split a dozen people into 3 teams, where one team has 2 people, and the other two teams have 5 people each?\n",
    "\n",
    "* (b) How many ways are there to split a dozen people into 3 teams, where each team has 4 people?\n",
    "\n",
    "**Solution:**\n",
    "\n",
    "* (a) First let's select 2 people from 12 people which will be the first team and then another 5 people from remaining 10 people to form the second team and then rest people forms the last team. One problem here is the people who consist the first team can at some point be part of the second team. So, basically we are counting them twice. So the possible ways are\n",
    "\n",
    "\\begin{align}\n",
    "\\frac{{12 \\choose 2}{10 \\choose 5}}{2}\n",
    "\\end{align}\n",
    "\n",
    "\n",
    "* (b) First 4 people we, can select $12 \\choose 4$ ways and then next 4 people $8 \\choose 4$ ways and rest forms the last team. The teams can have $3!$ arrangemets. So the total ways are\n",
    "\n",
    "\\begin{align}\n",
    "\\frac{{12 \\choose 4}{8 \\choose 4}}{3!}\n",
    "\\end{align}\n",
    "\n",
    "<br>\n",
    "\n",
    "___"
   ]
  },
  {
   "cell_type": "markdown",
   "metadata": {},
   "source": [
    "**Problem 3:**\n",
    "A college has 10(non-overlapping) time slots for it's courses, and blithely assigns courses to time slots randomly and independently. A student randomly chooses 3 of the courses to enroll in(for the PTP, to avoid getting fined). What is the probability that there is a conflict in the student's schedule?\n",
    "\n",
    "**Solution:**\n",
    "Let's find out what is the total number of ways, the student can have those 3 classes considering overlap as well as non-overlap situations. The first course have one of the total 10 time slots same with the second and third course. Total possible scenarios are $10^3$.\n",
    "\n",
    "Now let's find how many ways to not have any overlap. The first class we can select any of the 10 time slots and then the second from any of the reamining 9 slots and the third is anyone of the 8 remaining slots. So the probability of not having an overlap is $\\frac{10.9.8}{10^3}$\n",
    "\n",
    "So, the probability that there will be an overlap is ${1 - \\frac{10.9.8}{10^3}}$\n",
    "\n",
    "<br>\n",
    "\n",
    "___"
   ]
  },
  {
   "cell_type": "markdown",
   "metadata": {},
   "source": [
    "**Problem 4:**\n",
    "A city with 6 districts has 6 robberies in a particular week. Assume the robberies\n",
    "are located randomly, with all possibilities for which robbery occurred where equally\n",
    "likely. What is the probability that some district had more than 1 robbery?\n",
    "\n",
    "**Solution:**\n",
    "The solution is something very similar to the previous problem which is ${1 - \\frac{6!}{6^6}}$\n",
    "\n",
    "<br>\n",
    "\n",
    "___"
   ]
  },
  {
   "cell_type": "markdown",
   "metadata": {},
   "source": [
    "**Problem 5:**\n",
    "Elk dwell in a certain forest. There are $N$ elk, of which a simple random sample\n",
    "of size $n$ are captured and tagged (“simple random sample” means that all $N \\choose n$ sets\n",
    "of $n$ elk are equally likely). The captured elk are returned to the population, and\n",
    "then a new sample is drawn, this time with size $m$. This is an important method\n",
    "that is widely-used in ecology, known as capture-recapture.\n",
    "What is the probability that exactly $k$ of the $m$ elk in the new sample were\n",
    "previously tagged? (Assume that an elk that was captured before doesn’t become\n",
    "more or less likely to be captured again.)\n",
    "\n",
    "**Solution:**\n",
    "This is an example of Hypergeometric Distribution.  \n",
    "So, first time when $n$ elks were selected and put them back , there were actually $n$ selected elks and $N-n$ elks which were not selected.\n",
    "\n",
    "Now, when $m$ elks were again selected we have to find the probability where out of them exactly $k$ of them were already selected before out of the previous $n$ picks. Now for the denominator of the probability we have, how many different ways we can select $m$ elks and that is $N \\choose m$. The possible ways we can have $k$ elks in the selected $m$ which were already selected are $n \\choose k$ and the reamining $m-k$ elks will be from non selected elks in the previous step which is ${N-n} \\choose {m-k}$. So the final probability is\n",
    "\\begin{align}\n",
    "\\frac{{n \\choose k}{{N-n} \\choose {m-k}}}{N \\choose m}\n",
    "\\end{align}\n",
    "\n",
    "<br>\n",
    "\n",
    "___"
   ]
  },
  {
   "cell_type": "markdown",
   "metadata": {},
   "source": [
    "**Problem 6:**  \n",
    "A jar contains r red balls and g green balls, where r and g are fixed positive\n",
    "integers. A ball is drawn from the jar randomly (with all possibilities equally likely),\n",
    "and then a second ball is drawn randomly.\n",
    "* (a) Explain intuitively why the probability of the second ball being green is the same as the probability of the first ball being green.\n",
    "* (b) Define notation for the sample space of the problem, and use this to compute the probabilities from (a) and show that they are the same.\n",
    "* (c) Suppose that there are 16 balls in total, and that the probability that the two balls are the same color is the same as the p"
   ]
  },
  {
   "cell_type": "code",
   "execution_count": null,
   "metadata": {},
   "outputs": [],
   "source": []
  }
 ],
 "metadata": {
  "kernelspec": {
   "display_name": "Python 2",
   "language": "python",
   "name": "python2"
  },
  "language_info": {
   "codemirror_mode": {
    "name": "ipython",
    "version": 2
   },
   "file_extension": ".py",
   "mimetype": "text/x-python",
   "name": "python",
   "nbconvert_exporter": "python",
   "pygments_lexer": "ipython2",
   "version": "2.7.17"
  }
 },
 "nbformat": 4,
 "nbformat_minor": 2
}
