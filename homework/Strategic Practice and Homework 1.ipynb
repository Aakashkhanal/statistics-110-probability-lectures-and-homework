{
 "cells": [
  {
   "cell_type": "markdown",
   "metadata": {},
   "source": [
    "# Strategice Practice"
   ]
  },
  {
   "cell_type": "markdown",
   "metadata": {},
   "source": [
    "### Naive Defination of Probability"
   ]
  },
  {
   "cell_type": "markdown",
   "metadata": {},
   "source": [
    "**Problem 1:**\n",
    " For each part, decide whether the blank should be filled in with =, <, or >, and give a short but clear explanation.  \n",
    "* (a) (probability that the total after rolling 4 fair dice is 21) (probability that the total after rolling 4 fair dice is 22)  \n",
    "* (b) (probability that a random 2 letter word is a palindrome1) (probability that a random 3 letter word is a palindrome)\n",
    "\n",
    "**Solution:**\n",
    "* (a)\n",
    "Different combinations to get total of 21,when a fair dice is rolled 4 times, where order doesn't matter are\n",
    "\\begin{align*}\n",
    "{6, 6, 6, 3} \\\\\n",
    "{6, 6, 5, 4} \\\\\n",
    "{6, 5, 5, 5}\n",
    "\\end{align*}\n",
    "The total number of possible combinations, when the dice is rolled twice is $6^4$\n",
    "So, the probability is\n",
    "\\begin{align*}\n",
    "\\frac{3}{6^4}\n",
    "\\end{align*}\n",
    "<br>\n",
    "<br>\n",
    "Now the different combinations to get total of 22 are\n",
    "\\begin{align*}\n",
    "{6, 6, 6, 4} \\\\\n",
    "{6, 6, 5, 5}\n",
    "\\end{align*}\n",
    "and the probability will be\n",
    "\\begin{align*}\n",
    "\\frac{3}{6^4}\n",
    "\\end{align*}\n",
    "<br>\n",
    "<br>\n",
    "So the final answer will be \n",
    "<br>\n",
    "<br>\n",
    "(Probability that the total after rolling 4 fair dice is 21)$>$(Probability that the total after rolling 4 fair dice is 22)\n",
    "<br>\n",
    "<br>\n",
    "<br>\n",
    "* (b)\n",
    "(probablity that a random 2 letter word is a palindrome)$=$(probablity that a random 3 letter word is a palindrome)\n",
    "<br>\n",
    "Because, the probability of 3 letter word being palindrome doesn't depend on the middle letter. So, it's same as the two letter word\n"
   ]
  },
  {
   "cell_type": "markdown",
   "metadata": {},
   "source": [
    "\n",
    "**Problem 2:**\n",
    "A random 5 card poker hand is dealt from a standard deck of cards. Find the probability of each of the following(in terms of binomial coefficients).\n",
    "* (a) A flush(all 5 cards being of the same suit; do not count a royal flush, which is a flush with an Ace, King, Queen, Jack and 10)\n",
    "* (b) Two pair(e.g., two 3's, two 7's and and Ace)\n",
    "\n",
    "**Solution:**"
   ]
  },
  {
   "cell_type": "code",
   "execution_count": null,
   "metadata": {},
   "outputs": [],
   "source": []
  }
 ],
 "metadata": {
  "kernelspec": {
   "display_name": "Python 3",
   "language": "python",
   "name": "python3"
  },
  "language_info": {
   "codemirror_mode": {
    "name": "ipython",
    "version": 3
   },
   "file_extension": ".py",
   "mimetype": "text/x-python",
   "name": "python",
   "nbconvert_exporter": "python",
   "pygments_lexer": "ipython3",
   "version": "3.6.9"
  }
 },
 "nbformat": 4,
 "nbformat_minor": 2
}
