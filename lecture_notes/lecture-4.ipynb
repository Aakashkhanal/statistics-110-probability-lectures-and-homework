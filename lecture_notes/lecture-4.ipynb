{
 "cells": [
  {
   "cell_type": "markdown",
   "metadata": {},
   "source": [
    "# Conditional Probability"
   ]
  },
  {
   "cell_type": "markdown",
   "metadata": {},
   "source": [
    "### Matching Problem(Continued)\n",
    "\n",
    "**$A_j$ the event: $j^{th}$ card in deck is labeled as J. Find $P(\\cup_{j=1}^n A_j)$**\n",
    "___"
   ]
  },
  {
   "cell_type": "markdown",
   "metadata": {},
   "source": [
    "### Independent Events\n",
    "**Events A, B are independent if P(A,B) = P(A)P(B).**\n",
    "\n",
    "*Note*: Completely different from **disjointness**. Which means if A occurs than B cannot possibly occur.\n",
    "\n",
    "**A, B, C are independent, if P(A,B) = P(A)P(B), P(A,C) = P(A)P(C), P(B,C) = P(B)P(C) and P(A,B,C) = P(A)P(B)P(C).**\n",
    "\n",
    "*Similarly for events $A_1, A_2,....,A_n$*\n",
    "___"
   ]
  },
  {
   "cell_type": "markdown",
   "metadata": {},
   "source": [
    "### Newton-Pepys Problem(1693)\n",
    "**Have fair dice; which of these is mostly likely out of these three possibilities?**\n",
    "\n",
    "* (A) at least one 6, when rolling 6 dice?  \n",
    "* (B) at least two 6, when rolling 12 dice?  \n",
    "* (c) at least three 6, when rolling 18 dice?  \n",
    "\n",
    "**Solution:**\n",
    "* (A)\n",
    "$P(A) = 1 - \\text{probability that none of the dice outcomes are 6}$\n",
    "<br>\n",
    "So, if we roll a dice once the probability of not getting 6 is $\\frac{5}{6}$ and, same way if we roll it twice, the probability will be $(\\frac{5}{6}) ^ 2$ and if we do it 6 times than $(\\frac{5}{6}) ^ 6$.  \n",
    "<br>\n",
    "So,\n",
    "\\begin{align}\n",
    "P(A) = 1 - (\\frac{5}{6}) ^ 6 \\approx 0.665\n",
    "\\end{align}\n",
    "\n",
    "* (B)\n",
    "Same way like the previous one, we will eleminate the cases where there are no 6 outcome as well a new addition is one 6 outcome and we can select one instace from 12 instances of rolling dice for which the outcome will be 6 in $12 \\choose 1$ ways.  \n",
    "So, the final probability is\n",
    "\n",
    "\\begin{align}\n",
    "P(B) = 1 - {(\\frac{5}{6}) ^ {12}} - {{12 \\choose 1} (\\frac{1}{6}) (\\frac{5}{6}) ^ {11}} \\approx 0.619\n",
    "\\end{align}\n",
    "\n",
    "* (C)\n",
    "Following the same procedure\n",
    "<br>\n",
    "\\begin{align}\n",
    "P(C) = 1 - {(\\frac{5}{6}) ^ {18}} - {{18 \\choose 1} (\\frac{1}{6}) (\\frac{5}{6}) ^ {17}} - {{18 \\choose 2} (\\frac{1}{6}) ^ 2 (\\frac{5}{6}) ^ {16}} \\approx 0.597\n",
    "\\end{align}\n",
    "\n",
    "\n",
    "**The conclustion is P(A) > P(B)**\n",
    "<br>\n",
    "<br>\n",
    "___"
   ]
  },
  {
   "cell_type": "markdown",
   "metadata": {},
   "source": [
    "### Conditional Probability\n",
    "**How should you update your probability/beliefs/uncertainty based on new evidence, which is generally a sequential process?**\n",
    "\n",
    "*Conditioning is the soul of Statistics*\n",
    "\n",
    "**Defination**\n",
    "\\begin{align}\n",
    "P(A|B) = \\frac{P(A \\cap B)}{P(B)}, \\text{ if } P(B) > 0\n",
    "\\end{align}\n",
    "\n",
    "*Intution: Pebble world*  \n",
    "<br>\n",
    "Let's say we have a pebble world, where we have total 9 pebbles whose total mass is 1. And A is an event where we select few pebbles out of all of them and B being another event where we select another few pebbles. Now, to get the probability of event A, when event B has already occured. What we will do,  \n",
    "<br>\n",
    "**P(A|B) = get rid of pebbles in $B^c$ and renormalize to make total mass 1 again**\n",
    "<br>\n",
    "___"
   ]
  },
  {
   "cell_type": "markdown",
   "metadata": {},
   "source": [
    "**Theorems**\n",
    "* 1\n",
    "\\begin{align}\n",
    "P(A \\cap B) = P(B)P(A|B) = p(A)P(B|A)\n",
    "\\end{align}\n",
    "\n",
    "* 2\n",
    "\\begin{align}\n",
    "P(A_1, .... A_n) = P(A_1)P(A_2|A_1)P(A_3|A_1,A_2).....P(A_n|A_1,...A_{n-1})\n",
    "\\end{align}\n",
    "\n",
    "* 3\n",
    "\\begin{align}\n",
    "P(A|B) = \\frac{P(B|A)P(A)}{P(B)}\n",
    "\\end{align}"
   ]
  },
  {
   "cell_type": "code",
   "execution_count": null,
   "metadata": {},
   "outputs": [],
   "source": []
  }
 ],
 "metadata": {
  "kernelspec": {
   "display_name": "Python 3",
   "language": "python",
   "name": "python3"
  },
  "language_info": {
   "codemirror_mode": {
    "name": "ipython",
    "version": 3
   },
   "file_extension": ".py",
   "mimetype": "text/x-python",
   "name": "python",
   "nbconvert_exporter": "python",
   "pygments_lexer": "ipython3",
   "version": "3.8.2"
  }
 },
 "nbformat": 4,
 "nbformat_minor": 4
}
