{
 "cells": [
  {
   "cell_type": "markdown",
   "metadata": {},
   "source": [
    "# Monty Hall, Simpson's Paradox"
   ]
  },
  {
   "cell_type": "markdown",
   "metadata": {},
   "source": [
    "### Monty Hall Problem\n",
    "\n",
    "**Problem:**\n",
    "1 door has a car behind it and 2 doors have goats. Monty the host of the show, knows which door has what behind it. The person first picks a door. Then Monty always opens a door from rest of the doors which has a goat behind it and if Monty has a choice which door to open, when both of them have goat behind them he picks with equal probability. Should the person switch the choosen door?\n",
    "<br>\n",
    "<br>\n",
    "**Solution:**  \n",
    "\n",
    "Initially the probability is $\\frac{1}{3}$ finding a car behind a door. But once one of the doors is opened it becomes conditional and doesn't remain the same.\n",
    "<br>\n",
    "<br>\n",
    "\n",
    "##### Solution Using Tree Diagram:\n",
    "<br>\n",
    "\n",
    "![](https://i.imgur.com/5P6C7cX.png)\n",
    "<br>\n",
    "<br>\n",
    "So the explanation goes like this, let the person first choosen the door one. Now there is equal probability of each door having the car behind it which is $\\frac{1}{3}$. Now, which door is Monty gonna open!\n",
    "<br>\n",
    "So, if the car is behind door 1 and obviously the door 1 was choosen before. So, Monty has two options to open door 2 and 3, because both of them have goat behind them, with probability $\\frac{1}{2}$, Which is shown in the figure.\n",
    "<br>\n",
    "Now, if the car is behind the door 2, then Monty has only one option to open the door 3 with probability 1 and he will ask the person if he wanna change his choice.\n",
    "<br>\n",
    "Same is the case if the car is behind the door 3.\n",
    "<br>\n",
    "So, now if we condition on the door 2 being opened and what we learned from conditional probability that, when there are irrelevant cases, we delete them and we renormalize them to make the total probability of relevant cases 1.\n",
    "<br>\n",
    "Now, if Monty opens door 2 and we ignore the cases where monty opens door one, after normalization we can say that there is $\\frac{1}{3}$ chance that the car is behind door 1 and $\\frac{2}{3}$ chance that the car is behind door 3. So,\n",
    "<br>\n",
    "\\begin{align}\n",
    "P(\\text{success if switch}|\\text{ Monty opens door 2}) = \\frac{2}{3}\n",
    "\\end{align}\n",
    "##### Solution using Law of Total Probability:  \n",
    "\n",
    "*Law of Total Probability*: We wish we knew where the car is and we are gonna condition on that.\n",
    "<br>\n",
    "**Event S**: We succeed(Assuming switch). Basically we wanna find the probability of success by assuming the switch strategy.  \n",
    "**Event $D_j$** : Door j has car (j belongs to 1,2,3)  \n",
    "<br>\n",
    "let's assume that we have picked door 1. So,\n",
    "<br>\n",
    "<br>\n",
    "\\begin{align}\n",
    "P(S) &= P(S|D_1) \\times D_1 + P(S|D_2) \\times D_2 + P(S|D_3) \\times D_3 \\\\\n",
    "&= P(S|D_1) \\times \\frac{1}{3} + P(S|D_2) \\times \\frac{1}{3} + P(S|D_3) \\times \\frac{1}{3} \\\\\n",
    "&= 0 + \\frac{1}{3} + \\frac{1}{3} \\\\\n",
    "&= \\frac{2}{3}\n",
    "\\end{align}\n",
    "The probability values are based on the choosen door 1.\n",
    "Now this is unconditional result based on the point that, given a choice between door 2 and 3, Monty opens the door with equal probability.  \n",
    "By Symmetry $P(S|\\text{Monty opens door 2}) = \\frac{2}{3}$\n",
    "So, the whole this is,\n",
    "\n",
    "\\begin{align}\n",
    "P(S) &= P(S|\\text{Monty opens door 2}) \\times P(\\text{Monty opens door 2}) + P(S|\\text{Monty opens door 3}) \\times P(\\text{Monty opens door 3}) \\\\\n",
    "&= \\frac{2}{3}\n",
    "\\end{align}\n",
    "\n",
    "**When there is an asymmetry in Monty's selection the value will be something different**"
   ]
  },
  {
   "cell_type": "code",
   "execution_count": null,
   "metadata": {},
   "outputs": [],
   "source": []
  },
  {
   "cell_type": "code",
   "execution_count": null,
   "metadata": {},
   "outputs": [],
   "source": []
  }
 ],
 "metadata": {
  "kernelspec": {
   "display_name": "Python 3",
   "language": "python",
   "name": "python3"
  },
  "language_info": {
   "codemirror_mode": {
    "name": "ipython",
    "version": 3
   },
   "file_extension": ".py",
   "mimetype": "text/x-python",
   "name": "python",
   "nbconvert_exporter": "python",
   "pygments_lexer": "ipython3",
   "version": "3.8.2"
  }
 },
 "nbformat": 4,
 "nbformat_minor": 4
}
