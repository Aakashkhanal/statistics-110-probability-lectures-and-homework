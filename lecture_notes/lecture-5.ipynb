{
 "cells": [
  {
   "cell_type": "markdown",
   "metadata": {},
   "source": [
    "# Conditioning Continued, Law of Total Probability"
   ]
  },
  {
   "cell_type": "markdown",
   "metadata": {},
   "source": [
    "### Thinking conditionally is a condition for thinking  \n",
    "<br>\n",
    "<br>\n",
    "*How to solve a problem*\n",
    "* Try simple and extreme cases\n",
    "* break up problem into simple pieces  \n",
    "Let **$A_1, A_2,...,A_n$** be different partitions of **S** And **B** be an event of superset S. Then\n",
    "<br>\n",
    "<br>\n",
    "\\begin{align}\n",
    "P(B) &= P(B \\cap A_1) + P(B \\cap A_2) + .....+ P(B \\cap A_n) \\\\\n",
    "&= P(B|A_1)P(A_1) + P(B|A_2)P(A_2) + .....+ P(B|A_n)P(A_n)\n",
    "\\end{align}\n",
    "\n",
    "**This equation is called as Law of Total Probability**\n",
    "___"
   ]
  },
  {
   "cell_type": "markdown",
   "metadata": {},
   "source": [
    "**Example:**\n",
    "Get random 2-card hand from standard deck. \n",
    "* Find P(both aces|have ace)\n",
    "* Find P(both aces|have ace of spade)\n",
    "\n",
    "**Solution:**\n",
    "\n",
    "* \\begin{align}\n",
    "P(\\text{both aces}|\\text{have ace}) = \\frac{P(\\text{both aces}, \\text{have ace})}{P(\\text{have ace})}\n",
    "\\end{align}\n",
    "<br>\n",
    "Now, if we take intersection of two events, one where we have both the picked cards are ace and another event where one of them is ace. The event have an ace becomes irrelavent and so we can ignore that. So the probability becomes\n",
    "<br>\n",
    "<br>\n",
    "\\begin{align}\n",
    "P(\\text{both aces}|\\text{have ace}) &= \\frac{P(\\text{both aces})}{P(\\text{have ace})} \\\\\n",
    "& = \\frac{\\frac{4}{52} \\times \\frac{3}{51}}{{\\frac{4}{52} \\times \\frac{48}{51}} + {\\frac{4}{52} \\times \\frac{3}{51}}} = \\frac{\\frac{4 \\choose 2}{52 \\choose 2}}{1 - \\frac{48 \\choose 2}{52 \\choose 2}} \\\\\n",
    "& = \\frac{1}{33}\n",
    "\\end{align} \n",
    "<br>\n",
    "Here we are considering that the denomerator which will be union of two disjoints events, having two aces and having one ace.\n",
    "<br>\n",
    "<br>\n",
    "<br>\n",
    "* \\begin{align}\n",
    "P(\\text{both Aces}|\\text{have Ace of Spade}) = \\frac{3}{51}\n",
    "\\end{align}\n",
    "<br>\n",
    "One way to think about it is once we select Ace of spade it fulfills the first ace of two aces. And for the second Ace we have 3 options out of 51 remaining cards. So the result is so.\n",
    "But this intutional proof. If we have to get the result like the previous example.\n",
    "<br>\n",
    "<br>\n",
    "\\begin{align}\n",
    "P(\\text{both Aces}|\\text{have Ace of Spade}) &= \\frac{P(\\text{both Aces, have Ace of Spade})}{P(\\text{have Ace of Spade})} \\\\\n",
    "&= \\frac{\\frac{1}{52} \\times \\frac{3 \\choose 1}{51 \\choose 1}}{\\frac{1}{52}} \\\\\n",
    "&= \\frac{3}{51}\n",
    "\\end{align}\n",
    "___"
   ]
  },
  {
   "cell_type": "markdown",
   "metadata": {},
   "source": [
    "**Example:**  \n",
    "Patient gets tested for disease, which afflicts **1%** of the population, tests positive.  \n",
    "Suppose test is advertised being **95%** accurate, which means\n",
    "**$P(T|D)=0.95=P(T^c|D^c)$** .\n",
    "<br>\n",
    "<br>\n",
    "\\begin{align}\n",
    "\\text{Event D: Patient has the disease} \\\\\n",
    "\\text{Event T: Patient tests positive}\n",
    "\\end{align}\n",
    "\n",
    "We have to find $P(D|T)$?\n",
    "\n",
    "**Solution:**\n",
    "\\begin{align}\n",
    "P(D|T) &= \\frac{P(T|D)P(D)}{P(T)} \\\\\n",
    "&= \\frac{P(T|D)P(D)}{P(T \\cap D) + P(T \\cap D^c)} \\\\\n",
    "&= \\frac{P(T|D)(D)}{P(T|D)P(D) + P(T|D^c)P(D^c)} \\qquad \\text{, from law of total Probability} \\\\\n",
    "&\\approx 0.16\n",
    "\\end{align}\n",
    "\n",
    "okay now the understanding from the problem is, though from the result it looks like the result is very low, when the test company is advertising about the 95% accracy of their product. The reason behind though the test kit is accurate, the population getting the device is very wrong, so because of it, there is a trade off and we get this value.  \n",
    "If we take a small example of 1000 population and we do all those small calculations, it becomes easier to understand.\n",
    "___"
   ]
  },
  {
   "cell_type": "markdown",
   "metadata": {},
   "source": [
    "### Common mistakes with conditional probability(Biohazards):\n",
    "\n",
    "* Confusing $P(A|B)$, with $P(B|A)$, (\"Prosecutor's fallacy\")  \n",
    "Example: Sally Clark Case\n",
    "* Confusing $P(A)$ \"prior\" with $P(A|B)$ \"posterior\"\n",
    "* Confusing independence with conditional independence\n",
    "**Conditional Independence**: A, B are conditionally independent given C if $P(A \\cap B|C) = P(A|C)P(B|C)$.  \n",
    "<br>\n",
    "<br>\n",
    "If two events are conditionally independent, doesn't imply they will be independent.  \n",
    "Example: Chess opponents of unknown strength. May be the game outcomes are conditionally independent, given strength of the opponent but not independent.\n",
    "\n",
    "<br>\n",
    "<br>\n",
    "\n",
    "____\n",
    "\n",
    "### Does independence imply conditional independence given C?  \n",
    "Event A: fire alarm goes off    \n",
    "Caused by Event F: fire    \n",
    "Caused by Event C: Someone making popcorn.  \n",
    "\n",
    "The events F and C are completely independent, but either of them can make the fire alarm goes off.  \n",
    "Suppose F and C are independent, but $(F|A, C^c) = 1$, because if the alarm goes off there are two explanation, either this or that. So that makes them individually independent, but not conditionally independent given the fire alarm goes off.\n",
    "<br>\n",
    "<br>\n",
    "___"
   ]
  },
  {
   "cell_type": "code",
   "execution_count": null,
   "metadata": {},
   "outputs": [],
   "source": []
  }
 ],
 "metadata": {
  "kernelspec": {
   "display_name": "Python 3",
   "language": "python",
   "name": "python3"
  },
  "language_info": {
   "codemirror_mode": {
    "name": "ipython",
    "version": 3
   },
   "file_extension": ".py",
   "mimetype": "text/x-python",
   "name": "python",
   "nbconvert_exporter": "python",
   "pygments_lexer": "ipython3",
   "version": "3.8.2"
  }
 },
 "nbformat": 4,
 "nbformat_minor": 4
}
