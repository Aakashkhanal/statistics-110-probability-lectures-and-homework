{
 "cells": [
  {
   "cell_type": "markdown",
   "metadata": {},
   "source": [
    "<center> <h1>Probability and Counting</h1> </center>\n"
   ]
  },
  {
   "cell_type": "markdown",
   "metadata": {},
   "source": [
    "### Interesting examples of application of probability in different fields\n",
    "**History:** Mosteller-Wllance Federalist Papers  \n",
    "**Govt:** IQSS(check out the website for examples)  \n",
    "**Finace:** STAT123 course Harvard  \n",
    "**Gambling:** Fermat-Pascal exchange of letters(1650's)  \n",
    "**Life:** Math is the logic of certainty and statistics is the logic of uncertainty.\n",
    "\n",
    "_____"
   ]
  },
  {
   "cell_type": "markdown",
   "metadata": {},
   "source": [
    "### Naive defination of Probability\n",
    "A **Sample Space** is the set of all possible outcomes of an experiment.  \n",
    "An **Event** is a subset of the sample space.\n",
    "\n",
    "***Naive defination of Probability:***\n",
    "$ P(A) = \\frac{\\text{Number of favorable Outcomes}}{\\text{Number of possible outcomes}} $\n",
    "\n",
    "**Assumes** all outcomes are equally likely and finite sample space\n",
    "\n",
    "____\n"
   ]
  },
  {
   "cell_type": "markdown",
   "metadata": {},
   "source": [
    "### Counting\n",
    "**Multiplication Rule:** If we have an experiment with $\\bf{n_1}$ possible outcomes, and for each outcomes of the first experiment there are $\\bf{n_2}$ possible outcomes for the second experiment etc etc, for each there are $\\bf{n_r}$ outcomes for the $r_{th}$ exeriments, then there are overall $\\bf{n_1n_2n_3...n_r}$ overall possible outcomes.\n",
    "\n",
    "**Binomial Coefficient:**\n",
    "\\begin{align*}\n",
    "{{N} \\choose {k}} =\n",
    "\\begin{cases}\n",
    "\\frac{n!}{(n-k)!k!} \\\\\n",
    "0, & \\text{if k>n}\n",
    "\\end{cases}\n",
    "\\end{align*}\n",
    "\n",
    "Which is nothing but the subset of size of k, out of group of n people.  \n",
    "\n",
    "\n",
    "*Story Proof:*  \n",
    "Let's say, we have to choose k people from n number of people. So, in this example if we have to choose the first person then we have n number of options from which we can choose the first person. Once the first person is chosen, now we have (n-1) options to choose the second person. So this way, we can choose the first k person and using multiplication rule it will be  \n",
    "\n",
    "\n",
    "\\begin{align*}\n",
    "n.(n-1).(n-2).....(n-k+1)\n",
    "\\end{align*}\n",
    "\n",
    "now these k people can be in any order. So, if we have to ignore the order then we have to divide that term by k!. So, the final result is\n",
    "\n",
    "\n",
    "\\begin{align*}\n",
    "\\frac{n.(n-1).(n-2)....(n-k+1)}{k!} = \\frac{n!}{(n-k)!k!}\n",
    "\\end{align*}\n",
    "\n",
    "\n",
    "\n",
    "###### Ex: Probability of full house in poker, 5 card in hand?\n",
    "*Full house:*  \n",
    "3 cards of one rank and rest two of another same rank\n",
    "\n",
    "*Solution:*  \n",
    "The denominator which is the sample space will be ${52}\\choose{5}$  \n",
    "For the numerator how can we choose 3 cards of same rank. We have 13 possible ranks for each of the suits and we have 4 different suits. So, we can first chosse any rank out of 13 ranks and then 3 suits out of 4. So that value will be 13 x ${4}\\choose{3}$  \n",
    "Now to choose other two cards of other rank we have 12 ramining rank options and 2 suits out of 4 and that value will be 12 x ${4}\\choose{2}$\n",
    "So, the final answer will be\n",
    "\n",
    "\n",
    "\\begin{align*}\n",
    "\\frac{13 \\times {{4}\\choose{3}} \\times 12 \\times {{4}\\choose{2}}}{{52}\\choose{5}}\n",
    "\\end{align*}\n"
   ]
  },
  {
   "cell_type": "markdown",
   "metadata": {},
   "source": [
    "### Sampling Table\n",
    "\n",
    "Choose K objects out of n in different ways\n",
    "\n"
   ]
  },
  {
   "cell_type": "code",
   "execution_count": null,
   "metadata": {},
   "outputs": [],
   "source": []
  },
  {
   "cell_type": "code",
   "execution_count": null,
   "metadata": {},
   "outputs": [],
   "source": []
  },
  {
   "cell_type": "code",
   "execution_count": null,
   "metadata": {},
   "outputs": [],
   "source": []
  },
  {
   "cell_type": "markdown",
   "metadata": {},
   "source": [
    "[latex link](https://math.meta.stackexchange.com/questions/5020/mathjax-basic-tutorial-and-quick-reference)"
   ]
  },
  {
   "cell_type": "code",
   "execution_count": null,
   "metadata": {},
   "outputs": [],
   "source": []
  }
 ],
 "metadata": {
  "kernelspec": {
   "display_name": "Python 3",
   "language": "python",
   "name": "python3"
  },
  "language_info": {
   "codemirror_mode": {
    "name": "ipython",
    "version": 3
   },
   "file_extension": ".py",
   "mimetype": "text/x-python",
   "name": "python",
   "nbconvert_exporter": "python",
   "pygments_lexer": "ipython3",
   "version": "3.6.9"
  }
 },
 "nbformat": 4,
 "nbformat_minor": 2
}
