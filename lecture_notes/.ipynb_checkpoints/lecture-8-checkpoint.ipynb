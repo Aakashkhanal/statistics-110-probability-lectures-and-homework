{
 "cells": [
  {
   "cell_type": "markdown",
   "metadata": {},
   "source": [
    "# Random Variables and Their Distributions"
   ]
  },
  {
   "cell_type": "markdown",
   "metadata": {},
   "source": [
    "### Binomial Distribution $Bin(n,p)$   =>   $X \\sim Bin(n,p)$\n",
    "There are three important ways to think about it.\n",
    "\n",
    "##### 1) Story:\n",
    "$X$ is the number of successes in $n$ independent $Bern(p)$ trials, where $p$ is probability of success in a trial.\n",
    "\n",
    "##### 2) Sum of indicator Random Variables:\n",
    "\n",
    "$X = X_1 + X_2 + X_3 + .... + X_n$, where $X_j$ is $1$ if jth trial is success or $0$ otherwise.  \n",
    "$X_1,....,X_n$ are IID Bern(p), where IID is Independent Identically Distributed.\n",
    "\n",
    "##### 3) PMF(Probability Mass Function):\n",
    "$P(X=k) = {n\\choose k}{p^k}{q^{n-k}}$, $q = 1-p$, $k = 1,2,3,..n$\n",
    "\n",
    "<br>\n",
    "\n",
    "___"
   ]
  },
  {
   "cell_type": "markdown",
   "metadata": {},
   "source": [
    "### CDF(Cumulative Distribution Function):\n",
    "\n",
    "$X \\le x$ is an event and $F(x)=P(X \\le x)$, then F is the CDF of $X$.  \n",
    "So, CDF is one way to describe the distribution but this is not the only way and in theory it determines all the possible probabilites of $X$\n",
    "\n",
    "<br>\n",
    "\n",
    "___"
   ]
  },
  {
   "cell_type": "markdown",
   "metadata": {},
   "source": [
    "### PMF(only for discrete RVs):\n",
    "\n",
    "**Discrete:** Possible Values are $a_1, a_2, a_3,... a_n$, means something which you can list out. This list might end in $a_n$ or it can go on forever.  \n",
    "\n",
    "**PMF** $P(X = a_j) = P_j$, for all $j$\n",
    "\n",
    "The conditions $p_j$ has to satisfy are\n",
    "* $P_j \\geq 0$\n",
    "* $\\sum_j p_j = 1$\n",
    "\n",
    "<br>\n",
    "\n",
    "*Let's check the second condition for Binomial Distribution*\n",
    "\\begin{align}\n",
    "\\sum_{k=0}^{n} {n \\choose k}{p^k}{q^{n-k}} = (p+q)^n = 1\n",
    "\\end{align}\n",
    "\n",
    "<br>\n",
    "\n",
    "___"
   ]
  },
  {
   "cell_type": "markdown",
   "metadata": {},
   "source": [
    "### Sum of two Binomials => if $X \\sim Bin(n,p)$, $Y \\sim Bin(m,p)$, then $X+Y \\sim Bin(n+m, p)$\n",
    "\n",
    "##### Solutions:\n",
    "\n",
    "**1) Story Methode:** Mathematically speacking we are actually adding two functions. And if two functions have the same domain then we just find the result for the individual functions and we just add them up. So, as long as these two RVs are in the same sample space, it's absolutely fine to add them, subtract them or multiply etc. Intutively the first one is the number of successes in n trials and the second one is the the number of successes in m trials and both with probability of p. So, in total m+n trials and it's nothing but the addition of number of successes from first case to the number of successes of the second case.\n",
    "\n",
    "**2):**\n",
    "Let' say $X = X_1 + X_2 + ... + X_n$, $Y = Y_1 + Y_2 + ... + Y_n$ and each of $X_j$ and $Y_j$ are independent Bernoulli RVs. Then $X+Y = \\sum_{j=1}^n X_j + \\sum_{j=1}^m Y_j$ .  \n",
    "This is nothing but the sum of $(n+m)$ IID $Bern(p)$. And we know that the sum of $n$ IID $Bern(p)$ is nothing but $Bin(n,p)$. So for $(n+m)$ IID Bern(p) it will be $Bin(n+m,p)$.\n",
    "\n",
    "**3) Using PMF:** \n",
    "\n",
    "\\begin{align}\n",
    "P(X+Y = k) &= \\sum_{j=0}^k P(X+Y = k|X=j)P(X=j) && \\text{by total law of probability} \\\\\n",
    "&= \\sum_{j=0}^k P(Y=k-j|X=j) {n \\choose j} p^j q^{n-j} \\\\\n",
    "&= \\sum_{j=0}^k P(X=k-j) {n \\choose j} p^j q^{n-j} && \\text{as X and Y are independent} \\\\\n",
    "&= \\sum_{j=0}^k {m \\choose {k-j}} p^{k-j} q^{m - k +j} {n \\choose j} p^j q^{n-j} \\\\\n",
    "&= \\sum_{j=0}^k {m \\choose {k-j}} p^k q^{m+n-k} {n \\choose j} \\\\\n",
    "&= p^k q^{m+n-k} \\sum_{j=0}^k {m \\choose {k-j}} {n \\choose j} \\\\\n",
    "&= p^k q^{m+n-k} {m+n \\choose k} && \\text{from Vander Monde Rule} \\\\\n",
    "&= {m+n \\choose k} p^k q^{m+n-k} \\\\\n",
    "\\end{align}\n",
    "\n",
    "<br>\n",
    "\n",
    "___"
   ]
  },
  {
   "cell_type": "markdown",
   "metadata": {},
   "source": [
    "**Problem:**   \n",
    "5 card hand. Find the distribution(PMF/CDF) of number of Aces.\n",
    "\n",
    "**Solution:**  \n",
    "Let $X$ = Number of Aces. We have to find $P(X=k)$, whose value is $0$ except if $k \\in \\{0, 1, 2, 3, 4\\}$  \n",
    "Now here the thing is for each selection of card that is not Bernoulli RVs. So, this is not a Binomial Distribution. \n",
    "\n",
    "\\begin{align}\n",
    "P(X=k) = \\frac{{4 \\choose k} {48 \\choose {5-k}}}{52 \\choose 5} && \\text{for } k \\in \\{0, 1, 2, 3, 4\\} \\\\\n",
    "\\end{align}\n",
    "\n",
    "<br>\n",
    "\n",
    "Here the explanation is the denomintor is pretty clear which is nothing but the possible total number of 5 cards. In the numerator we first choose $k$ cards from available 4 Ace cards. And the remaining $(5-k)$ cards from the remaining 48 cards.\n",
    "\n",
    "<br>\n",
    "\n",
    "___"
   ]
  },
  {
   "cell_type": "markdown",
   "metadata": {},
   "source": [
    "**Problem:**"
   ]
  },
  {
   "cell_type": "code",
   "execution_count": null,
   "metadata": {},
   "outputs": [],
   "source": []
  }
 ],
 "metadata": {
  "kernelspec": {
   "display_name": "Python 3",
   "language": "python",
   "name": "python3"
  },
  "language_info": {
   "codemirror_mode": {
    "name": "ipython",
    "version": 3
   },
   "file_extension": ".py",
   "mimetype": "text/x-python",
   "name": "python",
   "nbconvert_exporter": "python",
   "pygments_lexer": "ipython3",
   "version": "3.8.2"
  }
 },
 "nbformat": 4,
 "nbformat_minor": 4
}
