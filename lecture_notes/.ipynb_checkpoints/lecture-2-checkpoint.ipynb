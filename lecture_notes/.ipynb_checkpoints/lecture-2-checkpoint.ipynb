{
 "cells": [
  {
   "cell_type": "markdown",
   "metadata": {},
   "source": [
    "# Story Proofs, Axioms of Probability"
   ]
  },
  {
   "cell_type": "markdown",
   "metadata": {},
   "source": [
    "**Examples:**  \n",
    "* Splitting a team of 10 people to team of 6 and team of 4\n",
    "\n",
    "\n",
    "\\begin{align*}\n",
    "{10 \\choose 4} = {10 \\choose 6}\n",
    "\\end{align*}\n",
    "\n",
    "Because if I choose a team of 4, then whoever is left, is a team of 6.\n",
    "\n",
    "* Splitting a team of 10 people in to two teams of 5 memebers each\n",
    "\n",
    "\\begin{align*}\n",
    "= {10 \\choose 5}/2\n",
    "\\end{align*}\n",
    "\n",
    "when we are dividing into 5 and 5 members, one kind of combination comes twice. Once in the first team and next in the second team though the team division is still the same. That's why we have to divide by two here."
   ]
  },
  {
   "cell_type": "markdown",
   "metadata": {},
   "source": [
    "### The Sampling Table Again\n",
    "\n",
    "**Choose K objects out of n objects in different ways:**\n",
    "\n",
    "$$\n",
    "\\begin{array}{c|cc}\n",
    " & \\text{order matters} & \\text{order doesn't matter}  \\\\\n",
    "\\hline\n",
    "\\text{with replacement} & {n^k} & {n+k-1 \\choose k} \\\\\n",
    "\\text{without replacement} & \\frac{n!}{(n-k)!} & {n \\choose k} \\\\\n",
    "\\end{array}\n",
    "$$"
   ]
  },
  {
   "cell_type": "markdown",
   "metadata": {},
   "source": [
    "**Choose k objects out of n objects with replacement where order doesn't matter:**\n",
    "\n",
    "Let's say we have n containers representing n objects and everytime we take one object from n objects to make K objects, we mark the container with a dot. So basically if we use 2nd object twice to fill the k objects, the we will have 2 dots for the second container.\n",
    "For example we can take an example where we have to choose 5 objects from 3 objects with replacement, where order doesn't matter. So, if we draw the container it will look like\n",
    "\n",
    "\n",
    "$$\n",
    "\\begin{array}{c|ll|ll}\n",
    "\\text{o} & \\text{o} & \\text{o} & \\text{o} & \\text{o}  \\\\\n",
    "\\hline\n",
    "\\text{1st container} & \\text{2nd container} & & \\text{3rd container} & \\\\\n",
    "\\end{array}\n",
    "$$\n",
    "\n",
    "For better understaning we can write it as\n",
    "\n",
    "\\begin{align*}\n",
    "0100100\n",
    "\\end{align*}\n",
    "\n",
    "Where 0 marks the count of that specific object and 1 marks the segregation of container.\n",
    "Now, We can take different combinations of objects in different containers to make up for the total k objects.\n",
    "So, we can simplify this thing to howmany ways we can choose **k**\n",
    "elements from **n+k-1** elements, which gives us the desired result of\n",
    "\n",
    "\\begin{align*}\n",
    "{n+k-1 \\choose k}\n",
    "\\end{align*}\n",
    "\n",
    "The whole idea behind this solution is **having indistinguishable particles in distinguishable boxes**\n",
    "\n",
    "**Equivalently:** How many ways are there to put k indistinguishable particles into n distinguishable boxes?\n",
    "\n",
    "**Nice Read:** Bose-Einstein Condenstate, based on the ideas similar to this"
   ]
  },
  {
   "cell_type": "markdown",
   "metadata": {},
   "source": [
    "### Story Proof\n",
    "Proof by **interpretation** rather than proof by algebra or calculas. \n",
    "\n",
    "\n",
    "**Example-1:**\n",
    "\n",
    "\\begin{align*}\n",
    "{n \\choose k} = {n \\choose n-k}\n",
    "\\end{align*}\n",
    "\n",
    "This is very intutive, choosing k objects is like same like choosing n-k objects. Because if you choose k of them, that means n-k remains. So, the number of ways you can choose k objects, same number of choices are there for n-k objects also.\n",
    "\n",
    "**Example-2:**\n",
    "\n",
    "\\begin{align*}\n",
    "{n \\times {n-1 \\choose k-1}} = {k \\times {n \\choose k}}\n",
    "\\end{align*}\n",
    "\n",
    "\n",
    "The problem can seen this way is like, choosing k people out of n people and choosing a president out of them. So, this can be done two ones, one is first choosing the president from n people and then choosing remaining k-1 memmbers out of n-1 members. The second solution is first choosing k members out of n people and then choosing one out of those k people to be the president.\n",
    "\n",
    "\n",
    "**Example-3:**\n",
    "\n",
    "*Vandermonde Identity*\n",
    "\n",
    "\\begin{align*}\n",
    "{m+n \\choose k} = {\\sum_{j=0}^k {m \\choose j}{n \\choose k-j}}\n",
    "\\end{align*}\n",
    "\n",
    "\n",
    "Let's say we have two groups having m and n members. And we have to choose few members from m and few from n so that the total number of people is k. Now if we choose j people from the first group of m members, then we have k-j people to choose from that group of n members. And j value can be anything from 0 to K. So, if we consider all the values of j and do the summation we get the result."
   ]
  },
  {
   "cell_type": "markdown",
   "metadata": {},
   "source": [
    "### General/Non-naive Defination of Probability\n",
    "\n",
    "**Probability Space** Consists of S and P, where S is sample space, and P, is a function which takes an Event $A \\subseteq S$ as input, returns $P(A) \\in [0, 1]$ as output.  \n",
    "such that\n",
    "\n",
    "\n",
    "\\begin{aligned}\n",
    "{P({\\emptyset}) = 0}, {P(S) = 1}\n",
    "\\end{aligned}\n",
    "\n",
    "\\begin{aligned}\n",
    "{{P({\\sum_{n=1}^{\\infty}{A_n}}) = \\sum_{n=1}^{\\infty}{P(A_n)}}  \\text{  if $A_1$, $A_2$, $A_3$.... are disjoint}}\n",
    "\\end{aligned}"
   ]
  },
  {
   "cell_type": "code",
   "execution_count": null,
   "metadata": {},
   "outputs": [],
   "source": []
  }
 ],
 "metadata": {
  "kernelspec": {
   "display_name": "Python 3",
   "language": "python",
   "name": "python3"
  },
  "language_info": {
   "codemirror_mode": {
    "name": "ipython",
    "version": 3
   },
   "file_extension": ".py",
   "mimetype": "text/x-python",
   "name": "python",
   "nbconvert_exporter": "python",
   "pygments_lexer": "ipython3",
   "version": "3.6.9"
  }
 },
 "nbformat": 4,
 "nbformat_minor": 2
}
