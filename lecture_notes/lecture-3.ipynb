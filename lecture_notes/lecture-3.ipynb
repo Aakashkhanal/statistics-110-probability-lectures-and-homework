{
 "cells": [
  {
   "cell_type": "markdown",
   "metadata": {},
   "source": [
    "# Birthday Problem, Properties of Probability"
   ]
  },
  {
   "cell_type": "markdown",
   "metadata": {},
   "source": [
    "### Birthday Problem:\n",
    "\n",
    "**Let's say we have K people and we have to find the probability that 2 people have same birthdays**  \n",
    "*Exclude Feb 29 and assume other 365 days are equally likely; assume independence of birth*\n",
    "\n",
    "**Solutions:**\n",
    "\n",
    "If K>365, then probability is 1(pigeonhole principle in Mathematics)  \n",
    "\n",
    "let $K\\leq365$, P(nomatch) = $\\frac{365.364.363....(365-k+1)}{365^k}$  \n",
    "*EXplanation:*\n",
    "The total number of birthday combinations for k people will be $365^k$ because multiple people can have same birthdays. So, it's like choosing k from n object, with replacement where order doesn't matter.\n",
    "This is be the denomenator of the probability.\n",
    "For the numerator, the first person out of K people can be choosen such that there are no birthday match in 365 ways. Same way the second person can be choosen 364 ways and the third person in 363 ways and it goes on till the kth person whose birthday can have (365-k+1) days to get no match.\n",
    "\n",
    "\\begin{align*}\n",
    "P(match) = 1 - P(nomatch) =\n",
    "\\begin{cases}\n",
    "\\text{$50.7$%},  & \\text{if $K$=23} \\\\\n",
    "\\text{$97$%}, & \\text{if $K$=50} \\\\\n",
    "\\text{$99.9$%}, & \\text{if $K$=100}\n",
    "\\end{cases}\n",
    "\\end{align*}\n",
    "\n",
    "The reason behind this surprising result is we are looking at the number of people K to guess the probability. But here the important this is to check how many possible pairs are possible among K people to look for that probability.\n",
    "So if we have 23 people than we have $23 \\choose 2$ = 253 pairs to check for common birthdays. Which gives us the probability more than 50% and it makes sense also."
   ]
  },
  {
   "cell_type": "markdown",
   "metadata": {},
   "source": [
    "### Non-naive Defination of Probability\n",
    "\n",
    "**Axioms:**\n",
    "\n",
    "\\begin{aligned}\n",
    "{P({\\emptyset}) = 0}, {P(S) = 1}\n",
    "\\end{aligned}\n",
    "\n",
    "\\begin{aligned}\n",
    "{{P({\\sum_{n=1}^{\\infty}{A_n}}) = \\sum_{n=1}^{\\infty}{P(A_n)}}  \\text{  if $A_1$, $A_2$, $A_3$.... are disjoint}}\n",
    "\\end{aligned}\n",
    "\n",
    "<br>\n",
    "<br>\n",
    "\n",
    "**Simple consequenses of these Axioms(Properties):**\n",
    "\n",
    "* $P(A^c) = 1 - P(A)$\n",
    "\n",
    "&emsp;&emsp;&emsp;*Proof:*\n",
    "\n",
    "\\begin{align}\n",
    "{1} = {P(S)} & = P(A \\cup A^c) \\\\\n",
    " & = P(A) + {P(A^c) \\text{$\\hspace{0.5cm}$ since $A \\cap A^c = \\emptyset$}}\\\\ \n",
    "\\end{align}\n",
    "\n",
    "<br>\n",
    "<br>\n",
    "\n",
    "* If $A \\subseteq B$, then $P(A) \\leq P(B)$  \n",
    "\n",
    "&emsp;&emsp;&emsp;*Proof:*\n",
    "\n",
    "\\begin{align*}\n",
    "{B} & = {A \\cup (B \\cap A^c} \\\\\n",
    "{P(B)} & = {P(A) + P(B \\cap A^c) \\leq P(A)} \\\\\n",
    "\\end{align*}\n",
    "<br>\n",
    "<br>\n",
    "\n",
    "*Inclusion Exclusion Properties:*\n",
    "* $P(A \\cup B) = P(A) + P(B) - P(A \\cap B)$  \n",
    "\n",
    "* $P(A \\cup B \\cup) = P(A) + P(B) + P(C) - P(A \\cap B) - P(B \\cap C) - P(C \\cap A) + P(A \\cap B \\cap C)$\n",
    "\n",
    "* $P(A_1 \\cup A_2 \\cup A_3 ... \\cup A_n) = \\sum_{j=1}^{n}A_i - \\sum_{i<j}P(A_i \\cap A_j) + \\sum_{i<j<k}P(A_i \\cap A_j \\cap A_k).....+(-1)^{n+1}P(A_1 \\cap A_2 \\cap A_3 .... \\cap A_n)$ \n"
   ]
  },
  {
   "cell_type": "markdown",
   "metadata": {},
   "source": [
    "### Example of Inclusion Exclusion Problem\n",
    "\n",
    "**de Montmort's Problem(1713)-The Matching Problem:**\n",
    "n cards, labeled $1,2,...,n$. Let $A_j$ be the event \"$j^{th}$ card matches\" or in other words, the $j^{th}$ card in the deck is numbered as $j$  \n",
    "We have to find $P(A_1 \\cup A_2 \\cup A_3...\\cup A_n)$, this is nothing but the mathematical expression for the probability that atleast one card matches.\n",
    "\n",
    "*Solution:*\n",
    "\n",
    "\\begin{align}\n",
    "P(A_j) = \\frac{(n-1)!}{n!} = \\frac{1}{n}\\text{$\\hspace{0.5cm}$ since all positions are equally likely for card labeld j}\\\\ \n",
    "\\end{align}\n",
    "\n",
    "We can think of it this way, in the denominator we have all the combinations of the n cards, and in the numerator we have all the combinations of the (n-1) cards, because one card has to be constant whose number matches with it's position in the deck.\n",
    "\n",
    "Same way,\n",
    "\n",
    "\\begin{align}\n",
    "P(A_i \\cap A_J) &= \\frac{(n-2)!}{n!} = \\frac{1}{n(n-1)}\\\\\n",
    "P(A_1 \\cap .... \\cap A_k) &= \\frac{(n-k)!}{n!} = \\frac{1}{n(n-1)...(n-k+1)}\\\\\n",
    "\\end{align}\n",
    "\n",
    "So, this way\n",
    "\n",
    "\n",
    "\\begin{align*}\n",
    "P(A_1 \\cup A_2 \\cup A_3...\\cup A_n) &= n.\\frac{1}{n} - \\frac{n(n-1)}{2!}\\frac{1}{n(n-1)} + \\frac{n(n-1)(n-2)}{3!}\\frac{1}{n(n-1)(n-2)}-...  \\\\\n",
    "&=1-\\frac{1}{2!}+\\frac{1}{3!}....+(-1)^n\\frac{1}{n!}\\\\\n",
    "&\\simeq 1-\\frac{1}{e}\n",
    "\\end{align*}\n",
    "\n"
   ]
  },
  {
   "cell_type": "code",
   "execution_count": null,
   "metadata": {},
   "outputs": [],
   "source": []
  }
 ],
 "metadata": {
  "kernelspec": {
   "display_name": "Python 3",
   "language": "python",
   "name": "python3"
  },
  "language_info": {
   "codemirror_mode": {
    "name": "ipython",
    "version": 3
   },
   "file_extension": ".py",
   "mimetype": "text/x-python",
   "name": "python",
   "nbconvert_exporter": "python",
   "pygments_lexer": "ipython3",
   "version": "3.8.2"
  }
 },
 "nbformat": 4,
 "nbformat_minor": 2
}
