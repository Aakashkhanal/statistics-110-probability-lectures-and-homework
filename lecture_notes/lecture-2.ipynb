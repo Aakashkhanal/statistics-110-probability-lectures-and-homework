{
 "cells": [
  {
   "cell_type": "markdown",
   "metadata": {},
   "source": [
    "# Story Proofs, Axioms of Probability"
   ]
  },
  {
   "cell_type": "markdown",
   "metadata": {},
   "source": [
    "**Examples:**  \n",
    "* Splitting a team of 10 people to team of 6 and team of 4\n",
    "\n",
    "\n",
    "\\begin{align*}\n",
    "{10 \\choose 4} = {10 \\choose 6}\n",
    "\\end{align*}\n",
    "\n",
    "Because if I choose a team of 4, then whoever is left, is a team of 6.\n",
    "\n",
    "* Splitting a team of 10 people in to two teams of 5 memebers each\n",
    "\n",
    "\\begin{align*}\n",
    "= {10 \\choose 5}/2\n",
    "\\end{align*}\n",
    "\n",
    "when we are dividing into 5 and 5 members, one kind of combination comes twice. Once in the first team and next in the second team though the team division is still the same. That's why we have to divide by two here."
   ]
  },
  {
   "cell_type": "markdown",
   "metadata": {},
   "source": [
    "### The Sampling Table Again\n",
    "\n",
    "**Choose K objects out of n objects in different ways:**\n",
    "\n",
    "$$\n",
    "\\begin{array}{c|cc}\n",
    " & \\text{order matters} & \\text{order doesn't matter}  \\\\\n",
    "\\hline\n",
    "\\text{with replacement} & {n^k} & {n+k-1 \\choose k} \\\\\n",
    "\\text{without replacement} & \\frac{n!}{(n-k)!} & {n \\choose k} \\\\\n",
    "\\end{array}\n",
    "$$"
   ]
  },
  {
   "cell_type": "markdown",
   "metadata": {},
   "source": [
    "**Choose k objects out of n objects with replacement where order doesn't matter:**\n",
    "\n",
    "Let's say we have n containers representing n objects and everytime we take one object from n objects to make K objects, we mark the container with a dot. So basically if we use 2nd object twice to fill the k objects, the we will have 2 dots for the second container.\n",
    "For example we can take an example where we have to choose 5 objects from 3 objects with replacement, where order doesn't matter. So, if we draw the container it will look like\n",
    "\n",
    "\n",
    "$$\n",
    "\\begin{array}{c|ll|ll}\n",
    "\\text{o} & \\text{o} & \\text{o} & \\text{o} & \\text{o}  \\\\\n",
    "\\hline\n",
    "\\text{1st container} & \\text{2nd container} & & \\text{3rd container} & \\\\\n",
    "\\end{array}\n",
    "$$\n",
    "\n",
    "For better understaning we can write it as\n",
    "\n",
    "\\begin{align*}\n",
    "0100100\n",
    "\\end{align*}\n",
    "\n",
    "Where 0 marks the count of that specific object and 1 marks the segregation of container.\n",
    "Now, We can take different combinations of objects in different containers to make up for the total k objects.\n",
    "So, we can simpliy this thing to howmany ways take **k** elements from **n+k-1** elements, which gives us the desired result of\n",
    "\n",
    "\\begin{align*}\n",
    "{n+k-1 \\choose k}\n",
    "\\end{align*}"
   ]
  },
  {
   "cell_type": "markdown",
   "metadata": {},
   "source": []
  }
 ],
 "metadata": {
  "kernelspec": {
   "display_name": "Python 3",
   "language": "python",
   "name": "python3"
  },
  "language_info": {
   "codemirror_mode": {
    "name": "ipython",
    "version": 3
   },
   "file_extension": ".py",
   "mimetype": "text/x-python",
   "name": "python",
   "nbconvert_exporter": "python",
   "pygments_lexer": "ipython3",
   "version": "3.6.9"
  }
 },
 "nbformat": 4,
 "nbformat_minor": 2
}
